{
 "metadata": {
  "name": ""
 },
 "nbformat": 3,
 "nbformat_minor": 0,
 "worksheets": [
  {
   "cells": [
    {
     "cell_type": "heading",
     "level": 1,
     "metadata": {},
     "source": [
      "The Joys of Matrix Analysis"
     ]
    },
    {
     "cell_type": "markdown",
     "metadata": {},
     "source": [
      "Every programmer has their favorite algorithm. My personal favorite is the Singular Value Decomposition, which I'll refer to as the SVD from here on out. Perhaps alone among classical computer algorithms, the SVD has the honor of being both (1) a practical algorithm and (2) an important concept in purely theoretical discussions of linear algebra.\n",
      "\n",
      "What makes the SVD so important? As you'll see, the SVD has the same relationship to a matrix of numbers as the arithmetic mean has to a vector of numbers. Just as we use the mean to summarize a long list of numbers, we can use the SVD to come up with a concise summary of a matrix.\n",
      "\n",
      "To make that concept clear, we'll need to define what we mean by a good summary. But let me first make clear why summarizing matrices is important.\n",
      "\n",
      "_Summarizing matrices is important because a huge amount of the information that we have about the world can be very naturally represented in terms of matrices._\n",
      "\n",
      "What sort of information am I talking about? In this talk, I'll focus on some very simple examples:\n",
      "\n",
      "__Voting records__: We can use matrices to encode the voting decisions made by every member of Congress that has ever voted at any point in the history of the United States. In this _roll call matrix_, the rows refer to members of Congress and the columns refer to bills on which the Members of Congress cast votes. For simplicity, we'll assume that votes in favor a bill are denoted by $1$ and the votes against a bill are denoted by $0$. For the sake of argument, we'll assume that every Member of Congress is compelled to vote for or against a bill. (At the end of this talk, I'll talk about techniques for loosening this assumption.)\n",
      "\n",
      "__Social networks__: We can use matrices to encode the social relationships between people by using matrices to represent a person's social network. In our social graph, we'll create an edge from A to B whenever Person A says that they are friends with Person B. Because every graph can be represented using an adjacency matrix, we can use matrices to formalize our ideas about social networks. The resulting matrix is often called a _sociomatrix_.\n",
      "\n",
      "__Text documents__: We can use matrices to encode text documents by counting the number of times that certain terms occur in each document. For example, we might count the number of times that the word \"viagra\" occurs in e-mails to determine which are spam. In a _document-term matrix_ or DTM, each row refers to a document and each column refers to a term. The $i,j$ entry in this DTM denotes the number of times that term $j$ occurred in document $i$.\n",
      "\n",
      "__Geometric shapes__: We can use matrices to encode polygons by storing the points that define the polygon as the columns of a matrix. In this shape matrix, the rows refer to the different dimensions along which the positions of the polygon's boundary points are defined. Every polygon can be represented as a matrix in this way. And, remarkably, a trick involving the SVD allows to find the closest possible alignment between two shapes.\n",
      "\n",
      "__Stock market records__: We can use matrices to encode the history of the stock market, by storing the price of stock $j$ on day $i$ as the $i,j$ entry of just such a matrix.\n"
     ]
    },
    {
     "cell_type": "heading",
     "level": 1,
     "metadata": {},
     "source": [
      "Summarizing Data"
     ]
    },
    {
     "cell_type": "markdown",
     "metadata": {},
     "source": [
      "What does it mean to summarize data? And what does it mean for something to be a _good_ summary?\n",
      "\n",
      "Let's start with the simplest case: we want to summarize a vector of numbers. For example, we might be dealing with the following vector:\n",
      "\n",
      "$$\n",
      "v = [1, 2, 10]\n",
      "$$\n",
      "\n",
      "Let's consider a single number summary, $s$, which we'll use to replace $v$ with a new vector, $v^{'}$:\n",
      "\n",
      "$$\n",
      "v^{'} = [s, s, s]\n",
      "$$\n",
      "\n",
      "How can we tell if we've chosen $s$ to be a good summary of $v$? We'll define that in terms of the discrepancy between $v$ and $v^{'}$:\n",
      "\n",
      "$$\n",
      "\\Delta = v - v^{'} = [1 - s, 2 - s, 10 - 2]\n",
      "$$\n",
      "\n",
      "We want to summarize this discrepancy. One simple approach is to square each entry and then sum the numbers:\n",
      "\n",
      "$$\n",
      "E(s) = \\Delta^{T} \\Delta = (1 - s)^2 + (2 - s)^2 + (10 - 2)^2\n",
      "$$\n",
      "\n",
      "How can we choose $s$ to make $E(S)$ small? To get an intuition, let's explore this numerically."
     ]
    },
    {
     "cell_type": "heading",
     "level": 1,
     "metadata": {},
     "source": [
      "Finding an Optimal Summary"
     ]
    },
    {
     "cell_type": "code",
     "collapsed": false,
     "input": [
      "using Distributions\n",
      "using Vega\n",
      "\n",
      "v = [1, 2, 10]\n",
      "\n",
      "E(s::Real) = sum(abs(v - s).^2)\n",
      "\n",
      "function curve(f::Function; from::Real = 0.0, to::Real = 1.0, N::Integer = 1_024)\n",
      "\tx = [from:((to - from) / (N - 1)):to]\n",
      "\ty = [f(x_i) for x_i in x]\n",
      "\tplot(x = x, y = y, kind = :line)\n",
      "end\n",
      "\n",
      "curve(E, from = min(v), to = max(v))"
     ],
     "language": "python",
     "metadata": {},
     "outputs": [
      {
       "metadata": {},
       "output_type": "pyout",
       "prompt_number": 3,
       "text": []
      }
     ],
     "prompt_number": 3
    },
    {
     "cell_type": "heading",
     "level": 1,
     "metadata": {},
     "source": [
      "Examples, Examples, Examples"
     ]
    },
    {
     "cell_type": "heading",
     "level": 2,
     "metadata": {},
     "source": [
      "Voting Records"
     ]
    },
    {
     "cell_type": "markdown",
     "metadata": {},
     "source": [
      "Hopefully these examples have convinced you that matrix analysis provides a powerful tool for reasoning about the world. Let's put some meat on the bones of these ideas by going into the details.\n",
      "\n",
      "![votes](files/roll_call.png)\n",
      "\n",
      "Results:\n",
      "\n",
      "![votes](files/NOMINATE.png)\n"
     ]
    },
    {
     "cell_type": "code",
     "collapsed": false,
     "input": [],
     "language": "python",
     "metadata": {},
     "outputs": []
    },
    {
     "cell_type": "heading",
     "level": 2,
     "metadata": {},
     "source": [
      "Social Network Analysis"
     ]
    },
    {
     "cell_type": "code",
     "collapsed": false,
     "input": [
      "# Edges to Adjacency Matrix\n",
      "# SVD\n",
      "# Plot in 2D\n",
      "\n",
      "edges = [1 2;\n",
      "         2 1;\n",
      "         1 3;\n",
      "         3 1;\n",
      "         2 3;\n",
      "         3 2;\n",
      "         4 5;\n",
      "         5 4;\n",
      "         4 6;\n",
      "         6 4;\n",
      "         5 6;\n",
      "         6 5;]\n",
      "\n",
      "function adjacency(edges::Matrix, selfedges::Bool = false)\n",
      "\tn = max(edges)\n",
      "\tA = zeros(n, n)\n",
      "\tfor i in 1:size(edges, 1)\n",
      "\t\tA[edges[i, 1], edges[i, 2]] = 1\n",
      "\tend\n",
      "\tif selfedges\n",
      "\t\tfor i in 1:n\n",
      "\t\t\tA[i, i] = 1\n",
      "\t\tend\n",
      "\tend\n",
      "\treturn A\n",
      "end\n"
     ],
     "language": "python",
     "metadata": {},
     "outputs": [
      {
       "metadata": {},
       "output_type": "pyout",
       "prompt_number": 4,
       "text": [
        "# methods for generic function adjacency\n",
        "adjacency(edges::Array{T,2})\n",
        "adjacency(edges::Array{T,2},selfedges::Bool) at In[4]:19"
       ]
      }
     ],
     "prompt_number": 4
    },
    {
     "cell_type": "code",
     "collapsed": false,
     "input": [
      "A = adjacency(edges)\n",
      "\n",
      "U, d, V = svd(A)\n",
      "\n",
      "U[:, 1:2] * diagm(d[1:2]) * V[:, 1:2]'\n",
      "\n",
      "plot(x = U[:, 1], y = U[:, 2])"
     ],
     "language": "python",
     "metadata": {},
     "outputs": [
      {
       "ename": "LoadError",
       "evalue": "iagm not defined\nat In[5]:5",
       "output_type": "pyerr",
       "traceback": [
        "iagm not defined\nat In[5]:5"
       ]
      }
     ],
     "prompt_number": 5
    },
    {
     "cell_type": "code",
     "collapsed": false,
     "input": [
      "A = adjacency(edges, true)\n",
      "\n",
      "U, d, V = svd(A)\n",
      "\n",
      "U[:, 1:2] * diagm(d[1:2]) * V[:, 1:2]'\n",
      "\n",
      "plot(x = U[:, 1], y = U[:, 2])"
     ],
     "language": "python",
     "metadata": {},
     "outputs": [
      {
       "metadata": {},
       "output_type": "pyout",
       "prompt_number": 7,
       "text": []
      }
     ],
     "prompt_number": 7
    },
    {
     "cell_type": "heading",
     "level": 2,
     "metadata": {},
     "source": [
      "Text Analysis"
     ]
    },
    {
     "cell_type": "code",
     "collapsed": false,
     "input": [],
     "language": "python",
     "metadata": {},
     "outputs": []
    },
    {
     "cell_type": "heading",
     "level": 2,
     "metadata": {},
     "source": [
      "Shape Analysis"
     ]
    },
    {
     "cell_type": "code",
     "collapsed": false,
     "input": [],
     "language": "python",
     "metadata": {},
     "outputs": []
    },
    {
     "cell_type": "heading",
     "level": 2,
     "metadata": {},
     "source": [
      "Stock Analysis"
     ]
    },
    {
     "cell_type": "code",
     "collapsed": false,
     "input": [],
     "language": "python",
     "metadata": {},
     "outputs": []
    }
   ],
   "metadata": {}
  }
 ]
}